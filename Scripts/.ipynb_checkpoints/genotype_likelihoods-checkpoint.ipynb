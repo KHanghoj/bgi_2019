{
 "cells": [
  {
   "cell_type": "markdown",
   "metadata": {},
   "source": [
    "# Examples on calculating genotype likelihoods"
   ]
  },
  {
   "cell_type": "code",
   "execution_count": null,
   "metadata": {},
   "outputs": [],
   "source": [
    "import math\n",
    "phredScale = 33\n",
    "ploidy = 2\n",
    "alleles = ['A','C','G','T']\n",
    "exec(open('/home/mfumagal/Documents/Teaching/Copenhagen/Scripts/generics.py').read())"
   ]
  },
  {
   "cell_type": "code",
   "execution_count": null,
   "metadata": {},
   "outputs": [],
   "source": [
    "class Site:\n",
    "    def __init__(self,chrom,position,reference):\n",
    "        self.chrom = str(chrom)\n",
    "        self.position = int(position)\n",
    "        self.reference = str(reference)\n",
    "\n",
    "class Reads:\n",
    "    def __init__(self,base,base_quality):\n",
    "        self.base = str(base)\n",
    "        self.base_quality = str(base_quality)"
   ]
  },
  {
   "cell_type": "code",
   "execution_count": null,
   "metadata": {},
   "outputs": [],
   "source": [
    "site = Site('chrom', 1, 'A')\n",
    "reads = Reads('AAAG', '5555')"
   ]
  },
  {
   "cell_type": "code",
   "execution_count": null,
   "metadata": {},
   "outputs": [],
   "source": [
    "gl = calcGenoLogLikeN_MajorMinor(ploidy, reads, site, alleles.index('A'), alleles.index('G'))\n",
    "print(\"AA: \",gl[0],\"\\nAG: \",gl[1],\"\\nGG: \",gl[2])"
   ]
  },
  {
   "cell_type": "code",
   "execution_count": null,
   "metadata": {},
   "outputs": [],
   "source": [
    "reads = Reads('AAAG', '5550')\n",
    "\n",
    "gl = calcGenoLogLikeN_MajorMinor(ploidy, reads, site, alleles.index('A'), alleles.index('G'))\n",
    "print(\"AA: \",gl[0],\"\\nAG: \",gl[1],\"\\nGG: \",gl[2])"
   ]
  },
  {
   "cell_type": "code",
   "execution_count": null,
   "metadata": {},
   "outputs": [],
   "source": [
    "reads = Reads('AAAG', '555K')\n",
    "\n",
    "gl = calcGenoLogLikeN_MajorMinor(ploidy, reads, site, alleles.index('A'), alleles.index('G'))\n",
    "print(\"AA: \",gl[0],\"\\nAG: \",gl[1],\"\\nGG: \",gl[2])"
   ]
  },
  {
   "cell_type": "code",
   "execution_count": null,
   "metadata": {},
   "outputs": [],
   "source": [
    "reads = Reads('AAAAAAAAAG', '5555555550')\n",
    "\n",
    "gl = calcGenoLogLikeN_MajorMinor(ploidy, reads, site, alleles.index('A'), alleles.index('G'))\n",
    "print(\"AA: \",gl[0],\"\\nAG: \",gl[1],\"\\nGG: \",gl[2])"
   ]
  }
 ],
 "metadata": {
  "kernelspec": {
   "display_name": "Python 3",
   "language": "python",
   "name": "python3"
  },
  "language_info": {
   "codemirror_mode": {
    "name": "ipython",
    "version": 3
   },
   "file_extension": ".py",
   "mimetype": "text/x-python",
   "name": "python",
   "nbconvert_exporter": "python",
   "pygments_lexer": "ipython3",
   "version": "3.7.3"
  }
 },
 "nbformat": 4,
 "nbformat_minor": 2
}
