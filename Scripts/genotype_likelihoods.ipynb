{
 "cells": [
  {
   "cell_type": "markdown",
   "metadata": {},
   "source": [
    "# Examples on calculating genotype likelihoods"
   ]
  },
  {
   "cell_type": "code",
   "execution_count": 1,
   "metadata": {},
   "outputs": [],
   "source": [
    "import math\n",
    "phredScale = 33\n",
    "ploidy = 2\n",
    "alleles = ['A','C','G','T']\n",
    "exec(open('/home/mfumagal/Documents/Teaching/Copenhagen/Scripts/generics.py').read())"
   ]
  },
  {
   "cell_type": "code",
   "execution_count": 2,
   "metadata": {},
   "outputs": [],
   "source": [
    "class Site:\n",
    "    def __init__(self,chrom,position,reference):\n",
    "        self.chrom = str(chrom)\n",
    "        self.position = int(position)\n",
    "        self.reference = str(reference)\n",
    "\n",
    "class Reads:\n",
    "    def __init__(self,base,base_quality):\n",
    "        self.base = str(base)\n",
    "        self.base_quality = str(base_quality)"
   ]
  },
  {
   "cell_type": "code",
   "execution_count": 3,
   "metadata": {},
   "outputs": [],
   "source": [
    "site = Site('chrom', 1, 'A')\n",
    "reads = Reads('AAAG', '5555')"
   ]
  },
  {
   "cell_type": "code",
   "execution_count": 4,
   "metadata": {},
   "outputs": [
    {
     "name": "stdout",
     "output_type": "stream",
     "text": [
      "AA:  -5.733933482216705 \n",
      "AG:  -2.799344674842968 \n",
      "GG:  -17.121397759822106\n"
     ]
    }
   ],
   "source": [
    "gl = calcGenoLogLikeN_MajorMinor(ploidy, reads, site, alleles.index('A'), alleles.index('G'))\n",
    "print(\"AA: \",gl[0],\"\\nAG: \",gl[1],\"\\nGG: \",gl[2])"
   ]
  },
  {
   "cell_type": "code",
   "execution_count": 5,
   "metadata": {},
   "outputs": [
    {
     "name": "stdout",
     "output_type": "stream",
     "text": [
      "AA:  -4.582640935719683 \n",
      "AG:  -2.813962933449859 \n",
      "GG:  -17.143480997991688\n"
     ]
    }
   ],
   "source": [
    "reads = Reads('AAAG', '5550')\n",
    "\n",
    "gl = calcGenoLogLikeN_MajorMinor(ploidy, reads, site, alleles.index('A'), alleles.index('G'))\n",
    "print(\"AA: \",gl[0],\"\\nAG: \",gl[1],\"\\nGG: \",gl[2])"
   ]
  },
  {
   "cell_type": "code",
   "execution_count": 6,
   "metadata": {},
   "outputs": [
    {
     "name": "stdout",
     "output_type": "stream",
     "text": [
      "AA:  -10.799620686803607 \n",
      "AG:  -2.792697751399844 \n",
      "GG:  -17.11141052169367\n"
     ]
    }
   ],
   "source": [
    "reads = Reads('AAAG', '555K')\n",
    "\n",
    "gl = calcGenoLogLikeN_MajorMinor(ploidy, reads, site, alleles.index('A'), alleles.index('G'))\n",
    "print(\"AA: \",gl[0],\"\\nAG: \",gl[1],\"\\nGG: \",gl[2])"
   ]
  },
  {
   "cell_type": "code",
   "execution_count": 7,
   "metadata": {},
   "outputs": [
    {
     "name": "stdout",
     "output_type": "stream",
     "text": [
      "AA:  -4.642942950840691 \n",
      "AG:  -7.012979945714309 \n",
      "GG:  -51.36617584592889\n"
     ]
    }
   ],
   "source": [
    "reads = Reads('AAAAAAAAAG', '5555555550')\n",
    "\n",
    "gl = calcGenoLogLikeN_MajorMinor(ploidy, reads, site, alleles.index('A'), alleles.index('G'))\n",
    "print(\"AA: \",gl[0],\"\\nAG: \",gl[1],\"\\nGG: \",gl[2])"
   ]
  }
 ],
 "metadata": {
  "kernelspec": {
   "display_name": "Python 3",
   "language": "python",
   "name": "python3"
  },
  "language_info": {
   "codemirror_mode": {
    "name": "ipython",
    "version": 3
   },
   "file_extension": ".py",
   "mimetype": "text/x-python",
   "name": "python",
   "nbconvert_exporter": "python",
   "pygments_lexer": "ipython3",
   "version": "3.7.3"
  }
 },
 "nbformat": 4,
 "nbformat_minor": 2
}
